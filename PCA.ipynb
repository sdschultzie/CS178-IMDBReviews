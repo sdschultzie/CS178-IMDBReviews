{
 "cells": [
  {
   "cell_type": "code",
   "execution_count": 2,
   "id": "50df3d14",
   "metadata": {},
   "outputs": [],
   "source": [
    "import numpy as np\n",
    "import matplotlib.pyplot as plt\n",
    "\n",
    "import requests                                      # reading data\n",
    "from io import StringIO\n",
    "\n",
    "from sklearn.datasets import fetch_openml            # common data set access\n",
    "from sklearn.preprocessing import StandardScaler     # scaling transform\n",
    "from sklearn.model_selection import train_test_split # validation tools\n",
    "from sklearn.metrics import zero_one_loss as J01\n",
    "from sklearn.tree import DecisionTreeClassifier\n",
    "\n",
    "\n",
    "import sklearn.tree as tree\n",
    "import math\n",
    "\n",
    "from pathlib import Path\n",
    "\n",
    "# Fix the random seed for reproducibility\n",
    "# !! Important !! : do not change this\n",
    "seed = 1234\n",
    "np.random.seed(seed)\n",
    "\n",
    "DATA_PATH = Path('data/original-dataset')\n",
    "VOCAB_PATH = DATA_PATH.joinpath('imdb.vocab')\n",
    "TRAIN_BOW_PATH = DATA_PATH.joinpath('train/labeledBow.feat')\n",
    "TEST_BOW_PATH = DATA_PATH.joinpath('test/labeledBow.feat')"
   ]
  },
  {
   "cell_type": "code",
   "execution_count": 3,
   "id": "77bfefbf",
   "metadata": {},
   "outputs": [
    {
     "name": "stdout",
     "output_type": "stream",
     "text": [
      "['the' 'and' 'a' 'of' 'to' 'is' 'it' 'in' 'i' 'this']\n"
     ]
    }
   ],
   "source": [
    "with open(VOCAB_PATH, 'r', encoding='utf8') as vocab_file:\n",
    "    VOCAB = np.array(vocab_file.read().split('\\n'))\n",
    "    \n",
    "print(VOCAB[:10])"
   ]
  },
  {
   "cell_type": "code",
   "execution_count": 9,
   "id": "a82c5a2b",
   "metadata": {},
   "outputs": [
    {
     "name": "stdout",
     "output_type": "stream",
     "text": [
      "(1000, 89527)\n",
      "(1000,)\n",
      "[[9 1 4 ... 0 0 0]\n",
      " [7 4 2 ... 0 0 0]\n",
      " [4 4 4 ... 0 0 0]\n",
      " ...\n",
      " [3 3 6 ... 0 0 0]\n",
      " [8 3 2 ... 0 0 0]\n",
      " [9 7 8 ... 0 0 0]]\n",
      "[1 1 1 1 1 1 1 1 1 1]\n"
     ]
    }
   ],
   "source": [
    "X = []\n",
    "y = []\n",
    "\n",
    "with open(TRAIN_BOW_PATH, 'r', encoding='utf8') as train_bow_file:\n",
    "    n = 1000\n",
    "    for line in train_bow_file:\n",
    "        if n == 0:\n",
    "            break\n",
    "            \n",
    "        review = line.split(' ')\n",
    "        rating = int(review[0])\n",
    "        y.append(1 if rating > 5 else -1)\n",
    "\n",
    "        doc_words = [0 for i in range(len(VOCAB))]\n",
    "        for bow_count in review[1:]:\n",
    "            vocab_idx, count = bow_count.split(':')\n",
    "            vocab_idx = int(vocab_idx)\n",
    "            count = int(count)\n",
    "            doc_words[vocab_idx] = count\n",
    "        X.append(doc_words)\n",
    "        \n",
    "        n -= 1\n",
    "\n",
    "X = np.array(X)\n",
    "y = np.array(y)\n",
    "print(X.shape)\n",
    "print(y.shape)\n",
    "print(X[:10])\n",
    "print(y[:10])"
   ]
  },
  {
   "cell_type": "code",
   "execution_count": null,
   "id": "47acd4ad",
   "metadata": {},
   "outputs": [],
   "source": [
    "X = []\n",
    "y = []\n",
    "\n"
   ]
  }
 ],
 "metadata": {
  "kernelspec": {
   "display_name": "cs178",
   "language": "python",
   "name": "cs178"
  },
  "language_info": {
   "codemirror_mode": {
    "name": "ipython",
    "version": 3
   },
   "file_extension": ".py",
   "mimetype": "text/x-python",
   "name": "python",
   "nbconvert_exporter": "python",
   "pygments_lexer": "ipython3",
   "version": "3.10.13"
  }
 },
 "nbformat": 4,
 "nbformat_minor": 5
}
